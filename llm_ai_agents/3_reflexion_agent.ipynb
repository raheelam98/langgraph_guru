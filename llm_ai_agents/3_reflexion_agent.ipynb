{
  "nbformat": 4,
  "nbformat_minor": 0,
  "metadata": {
    "colab": {
      "provenance": [],
      "include_colab_link": true
    },
    "kernelspec": {
      "name": "python3",
      "display_name": "Python 3"
    },
    "language_info": {
      "name": "python"
    }
  },
  "cells": [
    {
      "cell_type": "markdown",
      "metadata": {
        "id": "view-in-github",
        "colab_type": "text"
      },
      "source": [
        "<a href=\"https://colab.research.google.com/github/raheelam98/langgraph_guru/blob/main/llm_ai_agents/3_reflexion_agent.ipynb\" target=\"_parent\"><img src=\"https://colab.research.google.com/assets/colab-badge.svg\" alt=\"Open In Colab\"/></a>"
      ]
    },
    {
      "cell_type": "markdown",
      "source": [
        "\n",
        "\n",
        "**Reflection is a prompting strategy** used to improve the quality and success rate of agents and similar AI systems\n",
        "\n",
        "[Reflection Agents - blog](https://blog.langchain.dev/reflection-agents/)\n",
        "\n",
        "[Reflection Agents - Youtube](https://www.youtube.com/watch?v=v5ymBTXNqtk&t=299s)\n",
        "\n",
        "[Reflexion - GitHub](https://github.com/langchain-ai/langgraph/blob/main/docs/docs/tutorials/reflexion/reflexion.ipynb)\n"
      ],
      "metadata": {
        "id": "S0ijjVj48yX7"
      }
    },
    {
      "cell_type": "markdown",
      "source": [
        "### Reflexion Agent\n",
        "\n",
        "Agentic Search Tool\n",
        "\n",
        "Things Use\n",
        "\n",
        "*   OpenAI GPT / ollama3.2 /\n",
        "*   Function Calling\n",
        "*   Travily Search Engine\n",
        "*   LangSmit\n",
        "\n",
        "\n",
        "Work Flow\n",
        "- first_responder_chain\n",
        "- Structured Output\n",
        "- OutputParsers(Pydantic)\n",
        "- Function Calling"
      ],
      "metadata": {
        "id": "_Kz2tluK8pyX"
      }
    },
    {
      "cell_type": "markdown",
      "source": [
        "\n",
        "\n"
      ],
      "metadata": {
        "id": "zn2Nm6qT9fvB"
      }
    },
    {
      "cell_type": "code",
      "source": [
        "# packages:\n",
        "%%capture --no-stderr\n",
        "%pip install -U langgraph langsmith langchain_google_genai langchain   python-dotenv"
      ],
      "metadata": {
        "id": "kqBpfa6YASR5"
      },
      "execution_count": 2,
      "outputs": []
    },
    {
      "cell_type": "code",
      "source": [
        "# API keys set up\n",
        "import os\n",
        "from google.colab import userdata\n",
        "\n",
        "os.environ[\"LANGCHAIN_API_KEY\"] = userdata.get('LANGCHAIN_API_KEY')\n",
        "os.environ[\"LANGCHAIN_TRACING_V2\"] = \"true\"\n",
        "os.environ[\"LANGCHAIN_PROJECT\"] = \"reflexion_agent\"\n"
      ],
      "metadata": {
        "id": "diBqCbdnAjby"
      },
      "execution_count": 3,
      "outputs": []
    },
    {
      "cell_type": "code",
      "source": [
        "import os\n",
        "from google.colab import userdata\n",
        "gemini_api_key = userdata.get('GEMINI_API_KEY')"
      ],
      "metadata": {
        "id": "XwVhXSp6DFk2"
      },
      "execution_count": 4,
      "outputs": []
    },
    {
      "cell_type": "code",
      "source": [
        "# llm\n",
        "from langchain_google_genai import ChatGoogleGenerativeAI\n",
        "\n",
        "llm = ChatGoogleGenerativeAI(\n",
        "    model=\"gemini-1.5-flash\",\n",
        "    max_retries=2,\n",
        "    api_key=gemini_api_key\n",
        ")"
      ],
      "metadata": {
        "id": "lrXDTv2gAyne"
      },
      "execution_count": 5,
      "outputs": []
    },
    {
      "cell_type": "code",
      "source": [
        "llm.invoke(\"hello\")"
      ],
      "metadata": {
        "id": "b4sFZSoqA16C",
        "outputId": "8f69f062-bb60-4001-b76b-9da2732ad0a4",
        "colab": {
          "base_uri": "https://localhost:8080/"
        }
      },
      "execution_count": 89,
      "outputs": [
        {
          "output_type": "execute_result",
          "data": {
            "text/plain": [
              "AIMessage(content='Hello there! How can I help you today?\\n', additional_kwargs={}, response_metadata={'prompt_feedback': {'block_reason': 0, 'safety_ratings': []}, 'finish_reason': 'STOP', 'safety_ratings': []}, id='run-ecc391bb-971f-4c75-aba1-e87ecebaf755-0', usage_metadata={'input_tokens': 2, 'output_tokens': 11, 'total_tokens': 13, 'input_token_details': {'cache_read': 0}})"
            ]
          },
          "metadata": {},
          "execution_count": 89
        }
      ]
    },
    {
      "cell_type": "markdown",
      "source": [
        "#### Requirements\n",
        "\n",
        "Install the requirements to use the [Tavily Search Engine](https://python.langchain.com/docs/integrations/tools/tavily_search/), and set your [TAVILY_API_KEY](https://tavily.com/)."
      ],
      "metadata": {
        "id": "mNnhb9DvBSf9"
      }
    },
    {
      "cell_type": "code",
      "source": [
        " # packages\n",
        "%%capture --no-stderr\n",
        "%pip install -U tavily-python langchain_community"
      ],
      "metadata": {
        "id": "8wakYkNPA_Uw"
      },
      "execution_count": 6,
      "outputs": []
    },
    {
      "cell_type": "code",
      "source": [
        "# API keys set up\n",
        "os.environ[\"TAVILY_API_KEY\"] = userdata.get(\"TAVILY_API_KEY\")"
      ],
      "metadata": {
        "id": "68IwC5o7BAV1"
      },
      "execution_count": 7,
      "outputs": []
    },
    {
      "cell_type": "code",
      "source": [
        "from langchain_community.tools.tavily_search import TavilySearchResults\n",
        "\n",
        "tool = TavilySearchResults(max_results=2)\n",
        "tools = [tool]\n",
        "tool.invoke(\"Rain expected in Karachi this week\")\n"
      ],
      "metadata": {
        "id": "pSdQcHZgBLBp",
        "colab": {
          "base_uri": "https://localhost:8080/"
        },
        "outputId": "91f1cfa6-dae8-4178-e82a-8159592e50d4"
      },
      "execution_count": 42,
      "outputs": [
        {
          "output_type": "execute_result",
          "data": {
            "text/plain": [
              "[{'url': 'https://www.thenews.com.pk/latest/1220109-karachi-weather-update-pmd-forecasts-more-rain-in-next-24-hours',\n",
              "  'content': 'Opinion Newspost Editorial Instep Money Matters YOU US TNS Mostly \"moderate rain with thundershowers\" expected to hit Karachi this week, says PMD chief meteorologist KARACHI: The Pakistan Meteorological Department (PMD) Thursday said the city will witness cloudy skies, drizzle and light rain in the next 24 hours after experiencing light rain early in the morning today. He said that \"mostly moderate rain with thundershowers\" is expected in Karachi and \"there may be heavy rain at some areas\". The National Disaster Management Authority (NDMA) has warned of urban flooding, ahead of heavy rains which are expected to hit various parts of the country in coming days.'},\n",
              " {'url': 'https://weather.com/en-PK/weather/tenday/l/1635c698505df4d47cc0a87bdf5b697154d56b59b2efd7f8b6d12d2457476fb0',\n",
              "  'content': 'Be prepared with the most accurate 10-day forecast for Karachi, Sindh with highs, lows, chance of precipitation from The Weather Channel and Weather.com'}]"
            ]
          },
          "metadata": {},
          "execution_count": 42
        }
      ]
    },
    {
      "cell_type": "markdown",
      "source": [
        "**ToolMessage**\n",
        "\n"
      ],
      "metadata": {
        "id": "aasVYNM19ZWj"
      }
    },
    {
      "cell_type": "code",
      "source": [
        "# tool_classes.py\n",
        "\n",
        "#reflex_agent/tool_executor.py\n",
        "# take input AI Message on search quary get the real time result\n",
        "\n",
        "from typing import List\n",
        "\n",
        "from pydantic import BaseModel, Field\n",
        "\n",
        "class Reflection(BaseModel):\n",
        "    missing: str = Field(description=\"Critique of what is missing.\")\n",
        "    superfluous: str = Field(description=\"Critique of what is superfluous\")\n",
        "\n",
        "\n",
        "class AnswerQuestion(BaseModel):\n",
        "    \"\"\"Answer the question.\"\"\"\n",
        "\n",
        "    answer: str = Field(description=\"~250 word detailed answer to the question.\")\n",
        "    reflection: Reflection = Field(description=\"Your reflection on the initial answer.\")\n",
        "    search_queries: List[str] = Field(\n",
        "        description=\"1-3 search queries for researching improvements to address the critique of your current answer.\"\n",
        "    )\n",
        "\n",
        "\n",
        "# Forcing citation in the model encourages grounded responses\n",
        "class ReviseAnswer(AnswerQuestion):\n",
        "    \"\"\"Revise your original answer to your question.\"\"\"\n",
        "\n",
        "    references: List[str] = Field(\n",
        "        description=\"Citations motivating your updated answer.\"\n",
        "    )\n",
        "\n",
        "tools_class = [Reflection, AnswerQuestion, ReviseAnswer]\n",
        "\n",
        "\n",
        "\n"
      ],
      "metadata": {
        "id": "jaKgsQ2qoWAg"
      },
      "execution_count": 8,
      "outputs": []
    },
    {
      "cell_type": "code",
      "source": [
        "# chain.py\n",
        "\n",
        "from langchain_google_genai import ChatGoogleGenerativeAI\n",
        "from dotenv import load_dotenv\n",
        "\n",
        "load_dotenv()\n",
        "import datetime\n",
        "\n",
        "from langchain_core.output_parsers import JsonOutputToolsParser, PydanticToolsParser\n",
        "from langchain_core.prompts import ChatPromptTemplate, MessagesPlaceholder\n",
        "\n",
        "#from schemas import AnswerQuestion, ReviseAnswer\n",
        "\n",
        "\n",
        "# llm = ChatGoogleGenerativeAI(model=\"gemini-1.5-flash\", api_key =  os.environ[\"GEMINI_API_KEY\"])\n",
        "\n",
        "parser = JsonOutputToolsParser(return_id=True)\n",
        "\n",
        "actor_prompt_template = ChatPromptTemplate.from_messages(\n",
        "    [\n",
        "        (\n",
        "            \"system\",\n",
        "            \"\"\"You are expert researcher.\n",
        "Current time: {time}\n",
        "\n",
        "1. {first_instruction}\n",
        "2. Reflect and critique your answer. Be severe to maximize improvement.\n",
        "3. Recommend search queries to research information and improve your answer.\"\"\",\n",
        "        ),\n",
        "        MessagesPlaceholder(variable_name=\"messages\"),\n",
        "        (\"system\", \"Answer the user's question above using the required format.\"),\n",
        "    ]\n",
        ").partial(\n",
        "    time=lambda: datetime.datetime.now().isoformat(),\n",
        ")\n",
        "\n",
        "\n",
        "first_responder = actor_prompt_template.partial(\n",
        "    first_instruction=\"Provide a detailed ~250 word answer.\"\n",
        ") | llm.bind_tools(tools=[AnswerQuestion], tool_choice=\"AnswerQuestion\")\n",
        "validator = PydanticToolsParser(tools=[AnswerQuestion])\n",
        "\n",
        "\n",
        "revise_instructions = \"\"\"Revise your previous answer using the new information.\n",
        "    - You should use the previous critique to add important information to your answer.\n",
        "        - You MUST include numerical citations in your revised answer to ensure it can be verified.\n",
        "        - Add a \"References\" section to the bottom of your answer (which does not count towards the word limit). In form of:\n",
        "            - [1]  https://example.com\n",
        "            - [2]  https://example.com\n",
        "    - You should use the previous critique to remove superfluous information from your answer and make SURE it is not more than 250 words.\n",
        "\"\"\"\n",
        "\n",
        "\n",
        "revisor = actor_prompt_template.partial(\n",
        "    first_instruction=revise_instructions\n",
        ") | llm.bind_tools(tools=[ReviseAnswer], tool_choice=\"ReviseAnswer\")\n",
        "\n",
        "\n"
      ],
      "metadata": {
        "id": "YayEgoY-lR2T"
      },
      "execution_count": 9,
      "outputs": []
    },
    {
      "cell_type": "code",
      "source": [
        "# tool_executor.py\n",
        "from langchain_community.tools.tavily_search import TavilySearchResults\n",
        "from langchain_community.utilities.tavily_search import TavilySearchAPIWrapper\n",
        "from langchain_core.tools import StructuredTool\n",
        "from langgraph.prebuilt import ToolNode\n",
        "\n",
        "# from cool_classes import AnswerQuestion, ReviseAnswer\n",
        "\n",
        "search = TavilySearchAPIWrapper()\n",
        "tavily_tool = TavilySearchResults(api_wrapper=search, max_results=5)\n",
        "\n",
        "\n",
        "def run_queries(search_queries: list[str], **kwargs):\n",
        "    \"\"\"Run the generated queries.\"\"\"\n",
        "    return tavily_tool.batch([{\"query\": query} for query in search_queries])\n",
        "\n",
        "\n",
        "tool_node = ToolNode(\n",
        "    [\n",
        "        StructuredTool.from_function(run_queries, name=AnswerQuestion.__name__),\n",
        "        StructuredTool.from_function(run_queries, name=ReviseAnswer.__name__),\n",
        "    ]\n",
        ")\n",
        "\n"
      ],
      "metadata": {
        "id": "3Zbj1jYbrVOd"
      },
      "execution_count": 10,
      "outputs": []
    },
    {
      "cell_type": "code",
      "source": [
        "# main.py\n",
        "\n",
        "from typing import List\n",
        "\n",
        "from dotenv import load_dotenv\n",
        "\n",
        "from langchain_core.messages import BaseMessage, ToolMessage\n",
        "from langgraph.graph import END, MessageGraph\n",
        "\n",
        "# from chains import first_responder, revisor\n",
        "# from tool_executor import tool_node\n",
        "\n",
        "# Load environment variables\n",
        "load_dotenv()\n",
        "\n",
        "MAX_ITERATIONS = 2\n",
        "\n",
        "builder = MessageGraph()\n",
        "builder.add_node(\"draft\", first_responder)\n",
        "builder.add_node(\"execute_tools\", tool_node)\n",
        "builder.add_node(\"revise\", revisor)\n",
        "builder.add_edge(\"draft\", \"execute_tools\")\n",
        "builder.add_edge(\"execute_tools\", \"revise\")\n",
        "\n",
        "\n",
        "def event_loop(state: List[BaseMessage]) -> str:\n",
        "    count_tool_visits = sum(isinstance(item, ToolMessage) for item in state)\n",
        "    num_iterations = count_tool_visits\n",
        "    if num_iterations > MAX_ITERATIONS:\n",
        "        return END\n",
        "    return \"execute_tools\"\n",
        "\n",
        "\n",
        "builder.add_conditional_edges(\"revise\", event_loop)\n",
        "builder.set_entry_point(\"draft\")\n",
        "graph = builder.compile()\n",
        "\n"
      ],
      "metadata": {
        "id": "jnm_RocRslrt"
      },
      "execution_count": 11,
      "outputs": []
    },
    {
      "cell_type": "code",
      "source": [
        "from IPython.display import Image, display\n",
        "\n",
        "try:\n",
        "    display(Image(graph.get_graph().draw_mermaid_png()))\n",
        "except Exception:\n",
        "    # This requires some extra dependencies and is optional\n",
        "    pass"
      ],
      "metadata": {
        "colab": {
          "base_uri": "https://localhost:8080/",
          "height": 449
        },
        "id": "_c9-lE5-sz0u",
        "outputId": "44aa713b-c1ed-4fc2-c21f-5c7729a09101"
      },
      "execution_count": 12,
      "outputs": [
        {
          "output_type": "display_data",
          "data": {
            "image/png": "[encoded data removed]",
            "text/plain": [
              "<IPython.core.display.Image object>"
            ]
          },
          "metadata": {}
        }
      ]
    },
    {
      "cell_type": "markdown",
      "source": [
        "**check to invoke graph**"
      ],
      "metadata": {
        "id": "DOhmpjtL1iow"
      }
    },
    {
      "cell_type": "code",
      "source": [
        "# from langchain_core.messages import HumanMessage, SystemMessage\n",
        "\n",
        "\n",
        "# def preprocess_messages(messages):\n",
        "#     \"\"\"Convert all SystemMessage objects to HumanMessage for compatibility.\"\"\"\n",
        "#     return [\n",
        "#         HumanMessage(content=msg.content)\n",
        "#         if isinstance(msg, SystemMessage)\n",
        "#         else msg\n",
        "#         for msg in messages\n",
        "#     ]\n",
        "\n",
        "\n",
        "# # Input as a HumanMessage\n",
        "# input_message = HumanMessage(\n",
        "#     content=\"Write about AI-Powered SOC / autonomous SOC problem domain. \"\n",
        "#     \"List startups that do that and raised capital.\"\n",
        "# )\n",
        "\n",
        "# # Preprocess messages (if graph adds SystemMessage objects)\n",
        "# preprocessed_input = preprocess_messages([input_message])\n",
        "\n",
        "# # Invoke the graph\n",
        "# res = graph.invoke(preprocessed_input)\n",
        "\n",
        "# # Access and print the results\n",
        "# if res and res[-1].tool_calls:\n",
        "#     # Print the answer from the tool calls\n",
        "#     print(res[-1].tool_calls[0][\"args\"][\"answer\"])\n",
        "# else:\n",
        "#     print(\"No tool calls or responses found.\")\n",
        "\n",
        "# # Print the full result for debugging\n",
        "# print(res)\n"
      ],
      "metadata": {
        "id": "4AnaPrzdxYE-"
      },
      "execution_count": 62,
      "outputs": []
    },
    {
      "cell_type": "code",
      "source": [
        "# res = graph.invoke(\n",
        "#     \"Write about AI-Powered SOC / autonomous soc  problem domain, list startups that do that and raised capital.\"\n",
        "# )\n",
        "# print(res[-1].tool_calls[0][\"args\"][\"answer\"])\n",
        "# print(res)"
      ],
      "metadata": {
        "id": "M2SsO3rOs2MQ"
      },
      "execution_count": 61,
      "outputs": []
    },
    {
      "cell_type": "markdown",
      "source": [
        "**check**"
      ],
      "metadata": {
        "id": "b4eC4a9MaUHl"
      }
    }
  ]
}