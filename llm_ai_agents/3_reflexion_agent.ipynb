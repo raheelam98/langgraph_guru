{
  "nbformat": 4,
  "nbformat_minor": 0,
  "metadata": {
    "colab": {
      "provenance": [],
      "authorship_tag": "ABX9TyNFTWv29w9tLL5EfMbbZMIZ",
      "include_colab_link": true
    },
    "kernelspec": {
      "name": "python3",
      "display_name": "Python 3"
    },
    "language_info": {
      "name": "python"
    }
  },
  "cells": [
    {
      "cell_type": "markdown",
      "metadata": {
        "id": "view-in-github",
        "colab_type": "text"
      },
      "source": [
        "<a href=\"https://colab.research.google.com/github/raheelam98/langgraph_guru/blob/main/llm_ai_agents/3_reflexion_agent.ipynb\" target=\"_parent\"><img src=\"https://colab.research.google.com/assets/colab-badge.svg\" alt=\"Open In Colab\"/></a>"
      ]
    },
    {
      "cell_type": "markdown",
      "source": [
        "\n",
        "\n",
        "**Reflection is a prompting strategy** used to improve the quality and success rate of agents and similar AI systems\n",
        "\n",
        "[Reflection Agents - blog](https://blog.langchain.dev/reflection-agents/)\n",
        "\n",
        "[Reflection Agents - Youtube](https://www.youtube.com/watch?v=v5ymBTXNqtk&t=299s)\n",
        "\n",
        "[Reflexion - GitHub](https://github.com/langchain-ai/langgraph/blob/main/docs/docs/tutorials/reflexion/reflexion.ipynb)\n"
      ],
      "metadata": {
        "id": "S0ijjVj48yX7"
      }
    },
    {
      "cell_type": "markdown",
      "source": [
        "### Reflexion Agent\n",
        "\n",
        "Agentic Search Tool\n",
        "\n",
        "Things Use\n",
        "\n",
        "*   OpenAI GPT / ollama3.2 /\n",
        "*   Function Calling\n",
        "*   Travily Search Engine\n",
        "*   LangSmit\n",
        "\n",
        "\n",
        "Work Flow\n",
        "- first_responder_chain\n",
        "- Structured Output\n",
        "- OutputParsers(Pydantic)\n",
        "- Function Calling"
      ],
      "metadata": {
        "id": "_Kz2tluK8pyX"
      }
    },
    {
      "cell_type": "markdown",
      "source": [
        "\n",
        "\n"
      ],
      "metadata": {
        "id": "zn2Nm6qT9fvB"
      }
    },
    {
      "cell_type": "code",
      "execution_count": null,
      "metadata": {
        "id": "4VRrUnSu8gHK"
      },
      "outputs": [],
      "source": []
    }
  ]
}