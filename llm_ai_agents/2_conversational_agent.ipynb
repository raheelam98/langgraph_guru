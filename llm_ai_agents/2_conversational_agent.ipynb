{
  "nbformat": 4,
  "nbformat_minor": 0,
  "metadata": {
    "colab": {
      "provenance": [],
      "authorship_tag": "ABX9TyOVogJlppy4wQXcwffNK5EI",
      "include_colab_link": true
    },
    "kernelspec": {
      "name": "python3",
      "display_name": "Python 3"
    },
    "language_info": {
      "name": "python"
    }
  },
  "cells": [
    {
      "cell_type": "markdown",
      "metadata": {
        "id": "view-in-github",
        "colab_type": "text"
      },
      "source": [
        "<a href=\"https://colab.research.google.com/github/raheelam98/langgraph_guru/blob/main/llm_ai_agents/2_conversational_agent.ipynb\" target=\"_parent\"><img src=\"https://colab.research.google.com/assets/colab-badge.svg\" alt=\"Open In Colab\"/></a>"
      ]
    },
    {
      "cell_type": "markdown",
      "source": [
        "### **Conversational Agent**"
      ],
      "metadata": {
        "id": "RQMXQYDdDz_d"
      }
    },
    {
      "cell_type": "markdown",
      "source": [
        "* OPENAI_API_KEY=sk- your key\n",
        "* GEMINI_API_KEY= your key\n",
        "* LANGCHAIN_API_KEY=ls your key\n",
        "* LANGCHAIN_TRACING_V2=true\n",
        "* LANGCHAIN_PROJECT=project name\n",
        "\n",
        "Use either **`OPENAI_API_KEY`** or **`GEMINI_API_KEY`**"
      ],
      "metadata": {
        "id": "ZupcsNZkrI1g"
      }
    },
    {
      "cell_type": "markdown",
      "source": [
        "In poetry add these packages\n",
        "\n",
        "\n",
        "poetry add python-dotenv black isort langchain langchain-openai langgraph langchain_google_genai"
      ],
      "metadata": {
        "id": "dTJ62cNfVoCz"
      }
    },
    {
      "cell_type": "code",
      "source": [
        "# Install the required packages:\n",
        "%%capture --no-stderr\n",
        "%pip install --quiet -U langgraph  langchain  langchain_google_genai python-dotenv"
      ],
      "metadata": {
        "id": "_hscr8m1UhP_"
      },
      "execution_count": 25,
      "outputs": []
    },
    {
      "cell_type": "code",
      "source": [
        "# API Keys\n",
        "# Get the GEMINI API key from user data\n",
        "from google.colab import userdata\n",
        "gemini_api_key = userdata.get('GEMINI_API_KEY')"
      ],
      "metadata": {
        "id": "b3Tb8-y2W4Jh"
      },
      "execution_count": 26,
      "outputs": []
    },
    {
      "cell_type": "markdown",
      "source": [
        "We'll use [LangSmith](https://docs.smith.langchain.com/) for\n",
        "[tracing](https://docs.smith.langchain.com/concepts/tracing)."
      ],
      "metadata": {
        "id": "MoSgB_ocXE9A"
      }
    },
    {
      "cell_type": "code",
      "source": [
        "from google.colab import userdata\n",
        "LANGCHAIN_API_KEY = userdata.get('LANGCHAIN_API_KEY')"
      ],
      "metadata": {
        "id": "ftmdaf_CXEgV"
      },
      "execution_count": 27,
      "outputs": []
    },
    {
      "cell_type": "code",
      "source": [
        "import os\n",
        "os.environ[\"LANGCHAIN_TRACING_V2\"] = \"true\"\n",
        "os.environ[\"LANGCHAIN_PROJECT\"] = \"agentic_chatbot\""
      ],
      "metadata": {
        "id": "XOO5ld-iXUwz"
      },
      "execution_count": 28,
      "outputs": []
    },
    {
      "cell_type": "code",
      "source": [
        "# Initialize the language model\n",
        "# Initialize the ChatGoogleGenerativeAI with the Gemini model\n",
        "\n",
        "from langchain_google_genai import ChatGoogleGenerativeAI\n",
        "\n",
        "llm = ChatGoogleGenerativeAI(\n",
        "    model=\"gemini-1.5-flash\",  # Specify the model to use\n",
        "    max_retries=2,\n",
        "    api_key=gemini_api_key    # Provide the Google API key for authentication\n",
        ")"
      ],
      "metadata": {
        "id": "1_svTu5rz99N"
      },
      "execution_count": 50,
      "outputs": []
    },
    {
      "cell_type": "code",
      "source": [
        "# Invoke the LLM with a query\n",
        "res = llm.invoke(\"hi\")\n",
        "print(res)"
      ],
      "metadata": {
        "id": "0rRRglN_0EU-",
        "outputId": "e90f1af0-6f84-4ffc-bbf7-3add9d72ff18",
        "colab": {
          "base_uri": "https://localhost:8080/"
        }
      },
      "execution_count": 51,
      "outputs": [
        {
          "output_type": "stream",
          "name": "stderr",
          "text": [
            "WARNING:langsmith.client:Failed to multipart ingest runs: langsmith.utils.LangSmithAuthError: Authentication failed for https://api.smith.langchain.com/runs/multipart. HTTPError('401 Client Error: Unauthorized for url: https://api.smith.langchain.com/runs/multipart', '{\"detail\":\"Invalid token\"}')trace=f935690c-b857-480c-bfd3-da350ddc7f4d,id=f935690c-b857-480c-bfd3-da350ddc7f4d\n"
          ]
        },
        {
          "output_type": "stream",
          "name": "stdout",
          "text": [
            "content='Hi there! How can I help you today?\\n' additional_kwargs={} response_metadata={'prompt_feedback': {'block_reason': 0, 'safety_ratings': []}, 'finish_reason': 'STOP', 'safety_ratings': []} id='run-f935690c-b857-480c-bfd3-da350ddc7f4d-0' usage_metadata={'input_tokens': 2, 'output_tokens': 11, 'total_tokens': 13, 'input_token_details': {'cache_read': 0}}\n"
          ]
        },
        {
          "output_type": "stream",
          "name": "stderr",
          "text": [
            "WARNING:langsmith.client:Failed to multipart ingest runs: langsmith.utils.LangSmithAuthError: Authentication failed for https://api.smith.langchain.com/runs/multipart. HTTPError('401 Client Error: Unauthorized for url: https://api.smith.langchain.com/runs/multipart', '{\"detail\":\"Invalid token\"}')trace=f935690c-b857-480c-bfd3-da350ddc7f4d,id=f935690c-b857-480c-bfd3-da350ddc7f4d\n"
          ]
        }
      ]
    },
    {
      "cell_type": "markdown",
      "source": [
        "## **Converstion Flow**"
      ],
      "metadata": {
        "id": "_ZOTr2HCg8zm"
      }
    },
    {
      "cell_type": "markdown",
      "source": [
        "**Prompt** to predict, review the output, revise it, and provide suggestions for improvement"
      ],
      "metadata": {
        "id": "VdsClFlsprQV"
      }
    },
    {
      "cell_type": "code",
      "source": [
        "# creating the reflector chain and the tweet reviosr chain\n",
        "# Prompt to predict, review the output, revise it, and provide suggestions for improvement\n",
        "\n",
        "from langchain_core.prompts import ChatPromptTemplate, MessagesPlaceholder\n",
        "from langchain_google_genai import ChatGoogleGenerativeAI\n",
        "# from langchain_openai import ChatOpenAI\n",
        "\n",
        "# from dotenv import load_dotenv\n",
        "\n",
        "# #Load environment variables from .env file\n",
        "# # load_dotenv()"
      ],
      "metadata": {
        "id": "KH4Dei-Apfer"
      },
      "execution_count": 54,
      "outputs": []
    },
    {
      "cell_type": "code",
      "source": [
        "# Prompt to predict, review the output, revise it, and provide suggestions for improvement\n",
        "reflection_prompt = ChatPromptTemplate.from_messages(\n",
        "    [\n",
        "        (\n",
        "            \"system\",\n",
        "            \"You are a viral twitter influencer grading a tweet. Generate critique and recommendation for the user.\"\n",
        "            \"Always provide detailed recommendations, including requests for length, virality, style, etc.\"\n",
        "        ),\n",
        "        MessagesPlaceholder(variable_name=\"messages\")\n",
        "    ]\n",
        ")"
      ],
      "metadata": {
        "id": "lj4vK44Fg6-7"
      },
      "execution_count": 57,
      "outputs": []
    },
    {
      "cell_type": "code",
      "source": [
        "# Generate a message and continuously revise it based on feedback\n",
        "# from the reflection prompt until achieve the perfect result.\n",
        "generation_prompt = ChatPromptTemplate.from_messages(\n",
        "    [\n",
        "        (\n",
        "           \"system\",\n",
        "           \"You are a twitter techie influencer assistant tasked with writing excellent twitter posts.\"\n",
        "           \"Generate the best twitter post possible for the user's request.\"\n",
        "           \"If the user provides critique, respond with a revised version of your previous attempts.\"\n",
        "        ),\n",
        "        # placehoder for reflection and revision\n",
        "        MessagesPlaceholder(variable_name=\"messages\")\n",
        "    ]\n",
        ")"
      ],
      "metadata": {
        "id": "0rxP4GpPhGCw"
      },
      "execution_count": 58,
      "outputs": []
    },
    {
      "cell_type": "markdown",
      "source": [
        "**Connect Prompt to LLM and Create Chain**"
      ],
      "metadata": {
        "id": "lXx15LIbiIn7"
      }
    },
    {
      "cell_type": "code",
      "source": [
        "# Connect Prompt to LLM and Create Chain\n",
        "\n",
        "# Create the generation chain by combining the generation prompt with the language model.\n",
        "generation_chain = generation_prompt | llm\n",
        "\n",
        "# Create the reflection chain by combining the reflection prompt with the language model.\n",
        "reflection_chain = reflection_prompt | llm\n"
      ],
      "metadata": {
        "id": "hMLON9CVhQrc"
      },
      "execution_count": 59,
      "outputs": []
    },
    {
      "cell_type": "markdown",
      "source": [
        "**Create Graph for Converstion Flow**"
      ],
      "metadata": {
        "id": "InHiRP_7p8Rm"
      }
    },
    {
      "cell_type": "code",
      "source": [
        "from typing import List, Sequence\n",
        "\n",
        "# from dotenv import load_dotenv\n",
        "\n",
        "from langchain_core.messages import BaseMessage, HumanMessage\n",
        "from langgraph.graph import END, MessageGraph\n"
      ],
      "metadata": {
        "id": "5b6J66iEp3xk"
      },
      "execution_count": 61,
      "outputs": []
    },
    {
      "cell_type": "markdown",
      "source": [
        "**Define Nodes**"
      ],
      "metadata": {
        "id": "_icivBFWi3SH"
      }
    },
    {
      "cell_type": "code",
      "source": [
        "# define nodes name\n",
        "REFLECT = \"reflect\"\n",
        "GENERATE = \"generate\""
      ],
      "metadata": {
        "id": "hO8DnLKUi1tk"
      },
      "execution_count": 62,
      "outputs": []
    },
    {
      "cell_type": "markdown",
      "source": [
        "### Conversation Flow (Part 1)\n",
        "\n",
        "**Input Messages**\n",
        "\n",
        "The **generate node receives an input state**, where the state is a sequence of messages. It runs the generation chain and invokes all the states, essentially taking a tweet and revising it according to the state."
      ],
      "metadata": {
        "id": "unQS1xGGL40u"
      }
    },
    {
      "cell_type": "code",
      "source": [
        "# Define the generation node function which receives an input\n",
        "# state (a sequence of messages).\n",
        "def generation_node(state: Sequence[BaseMessage]):\n",
        "    # Invoke the generation chain with the current state,\n",
        "    # where state is passed as a dictionary with \"messages\" as the key.\n",
        "    return generation_chain.invoke({\"messages\": state})\n"
      ],
      "metadata": {
        "id": "10pmhR4OMFAd"
      },
      "execution_count": 63,
      "outputs": []
    },
    {
      "cell_type": "markdown",
      "source": [
        "### Conversation Flow (Part 2)\n",
        "\n",
        "**Receive Messages**\n",
        "\n",
        "Once it **receives a sequence of messages and invokes the chain**, as in the generation node:\n",
        "\n",
        "Difference in this function:\n",
        "\n",
        "* The response comes back from the LLM (usually in the role of AI).\n",
        "\n",
        "* We transform this response into a human message.\n",
        "\n",
        "* Take the content from the message and treat it as if a human sent it.\n",
        "\n",
        "* Train the message with the role of a human and then return it.\n",
        "\n",
        "**Reason :** By treating the LLM as if it were a human sending these messages, we maintain the conversation flow."
      ],
      "metadata": {
        "id": "lU-E4D1hUnlY"
      }
    },
    {
      "cell_type": "code",
      "source": [
        "# Define the reflection node function which receives a sequence of messages.\n",
        "def reflection_node(messages: Sequence[BaseMessage]) -> List[BaseMessage]:\n",
        "    # Invoke the reflection chain with the current messages,\n",
        "    # where messages are passed as a dictionary with \"messages\" as the key.\n",
        "    res = reflection_chain.invoke({\"messages\": messages})\n",
        "\n",
        "    # Return the response as a list containing HumanMessage,\n",
        "    # transforming the content from the LLM's response into a human message.\n",
        "    return [HumanMessage(content=res.content)]\n"
      ],
      "metadata": {
        "id": "clnkMnU9Uody"
      },
      "execution_count": 64,
      "outputs": []
    },
    {
      "cell_type": "markdown",
      "source": [
        "**Create a Graph to Process up to 6 Messages**"
      ],
      "metadata": {
        "id": "wHBtMrVJq0_f"
      }
    },
    {
      "cell_type": "code",
      "source": [
        "# Initialize the MessageGraph builder\n",
        "builder: MessageGraph = MessageGraph()\n",
        "\n",
        "# Add the generate node to the graph\n",
        "builder.add_node(GENERATE, generation_node)\n",
        "\n",
        "# Add the reflect node to the graph\n",
        "builder.add_node(REFLECT, reflection_node)\n",
        "\n",
        "# Set the entry point of the graph to the generate node (commented out alternative version)\n",
        "# builder.set_entry_point(generation_node)\n",
        "\n",
        "# Set the entry point of the graph to the generate node using the node name\n",
        "builder.set_entry_point(GENERATE)\n",
        "\n",
        "# Define a function to determine if the process should continue\n",
        "def should_continue(state: List[BaseMessage]):\n",
        "    if len(state) > 6:\n",
        "        return END\n",
        "    return REFLECT\n",
        "\n",
        "# Add conditional edges from the generate node based on the should_continue function\n",
        "builder.add_conditional_edges(GENERATE, should_continue)\n",
        "\n",
        "# Add an edge from the reflect node back to the generate node\n",
        "builder.add_edge(REFLECT, GENERATE)\n",
        "\n",
        "# Compile the graph\n",
        "graph = builder.compile()"
      ],
      "metadata": {
        "id": "t07JlCbnqLZt"
      },
      "execution_count": 65,
      "outputs": []
    },
    {
      "cell_type": "code",
      "source": [
        "# Print the graph representation in Mermaid syntax\n",
        "print(graph.get_graph().draw_mermaid())\n",
        "\n",
        "# Main entry point\n",
        "if __name__ == '__main__':\n",
        "    print(\"hi LangGraph\")\n"
      ],
      "metadata": {
        "id": "8VwnhMzr5KrU",
        "outputId": "9dcd1989-2ea4-494c-d992-594c65876e7a",
        "colab": {
          "base_uri": "https://localhost:8080/"
        }
      },
      "execution_count": 66,
      "outputs": [
        {
          "output_type": "stream",
          "name": "stdout",
          "text": [
            "%%{init: {'flowchart': {'curve': 'linear'}}}%%\n",
            "graph TD;\n",
            "\t__start__([<p>__start__</p>]):::first\n",
            "\tgenerate(generate)\n",
            "\treflect(reflect)\n",
            "\t__end__([<p>__end__</p>]):::last\n",
            "\t__start__ --> generate;\n",
            "\treflect --> generate;\n",
            "\tgenerate -.-> reflect;\n",
            "\tgenerate -.-> __end__;\n",
            "\tclassDef default fill:#f2f0ff,line-height:1.2\n",
            "\tclassDef first fill-opacity:0\n",
            "\tclassDef last fill:#bfb6fc\n",
            "\n",
            "hi LangGraph\n"
          ]
        }
      ]
    },
    {
      "cell_type": "code",
      "source": [
        "from IPython.display import Image, display\n",
        "display(Image(graph.get_graph().draw_mermaid_png()))"
      ],
      "metadata": {
        "id": "ElO6JRWA4Bf5",
        "outputId": "9f1012f8-f88a-4fe9-e1b8-ddfd9a8fa05e",
        "colab": {
          "base_uri": "https://localhost:8080/",
          "height": 266
        }
      },
      "execution_count": 67,
      "outputs": [
        {
          "output_type": "display_data",
          "data": {
            "image/png": "[encoded data removed]",
            "text/plain": [
              "<IPython.core.display.Image object>"
            ]
          },
          "metadata": {}
        }
      ]
    }
  ]
}