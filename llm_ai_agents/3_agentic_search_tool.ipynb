{
  "nbformat": 4,
  "nbformat_minor": 0,
  "metadata": {
    "colab": {
      "provenance": [],
      "authorship_tag": "ABX9TyOWheMECyGC2SXl6wKE7srS",
      "include_colab_link": true
    },
    "kernelspec": {
      "name": "python3",
      "display_name": "Python 3"
    },
    "language_info": {
      "name": "python"
    }
  },
  "cells": [
    {
      "cell_type": "markdown",
      "metadata": {
        "id": "view-in-github",
        "colab_type": "text"
      },
      "source": [
        "<a href=\"https://colab.research.google.com/github/raheelam98/langgraph_guru/blob/main/llm_ai_agents/3_agentic_search_tool.ipynb\" target=\"_parent\"><img src=\"https://colab.research.google.com/assets/colab-badge.svg\" alt=\"Open In Colab\"/></a>"
      ]
    },
    {
      "cell_type": "markdown",
      "source": [
        "### **Agentic Search Tool**\n",
        "\n",
        "**Work Flow**\n",
        "\n",
        "* OpenAI GPT\n",
        "* Function Calling\n",
        "* Travily Search Engine\n",
        "* LangSmit"
      ],
      "metadata": {
        "id": "RQMXQYDdDz_d"
      }
    },
    {
      "cell_type": "code",
      "source": [
        "# packeages\n",
        "\n",
        "poetry add python-dotenv black isort langchain langchain-openai langgraph langchain_google_genai\n",
        "poetry add lanchain-community # new"
      ],
      "metadata": {
        "id": "hfkHnef7CX6e"
      },
      "execution_count": null,
      "outputs": []
    },
    {
      "cell_type": "markdown",
      "source": [
        "check"
      ],
      "metadata": {
        "id": "Wz3VsHLpCaNP"
      }
    }
  ]
}