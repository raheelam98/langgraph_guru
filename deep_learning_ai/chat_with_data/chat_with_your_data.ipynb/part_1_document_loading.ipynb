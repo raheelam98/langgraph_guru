{
  "nbformat": 4,
  "nbformat_minor": 0,
  "metadata": {
    "colab": {
      "provenance": [],
      "authorship_tag": "ABX9TyOcvDhOVljcWWCe5WXV77iW",
      "include_colab_link": true
    },
    "kernelspec": {
      "name": "python3",
      "display_name": "Python 3"
    },
    "language_info": {
      "name": "python"
    }
  },
  "cells": [
    {
      "cell_type": "markdown",
      "metadata": {
        "id": "view-in-github",
        "colab_type": "text"
      },
      "source": [
        "<a href=\"https://colab.research.google.com/github/raheelam98/langgraph_guru/blob/main/deep_learning_ai/chat_with_data/chat_with_your_data.ipynb/part_1_document_loading.ipynb\" target=\"_parent\"><img src=\"https://colab.research.google.com/assets/colab-badge.svg\" alt=\"Open In Colab\"/></a>"
      ]
    },
    {
      "cell_type": "markdown",
      "source": [
        "[LangChain: Chat with Your Data](https://www.deeplearning.ai/short-courses/langchain-chat-with-your-data/)\n",
        "\n",
        "**Instructor: Harrison Chase**\n",
        "\n"
      ],
      "metadata": {
        "id": "dfYIrbpRVRY3"
      }
    },
    {
      "cell_type": "markdown",
      "source": [
        "[Document Loading](https://learn.deeplearning.ai/courses/langchain-chat-with-your-data/lesson/2/document-loading)"
      ],
      "metadata": {
        "id": "zWtVIQ4MWpST"
      }
    },
    {
      "cell_type": "code",
      "execution_count": null,
      "metadata": {
        "id": "2D13fq40U79Z"
      },
      "outputs": [],
      "source": []
    },
    {
      "cell_type": "markdown",
      "source": [
        "[Document Splitting](https://learn.deeplearning.ai/courses/langchain-chat-with-your-data/lesson/3/document-splitting)"
      ],
      "metadata": {
        "id": "fXlJiILtWJqB"
      }
    }
  ]
}