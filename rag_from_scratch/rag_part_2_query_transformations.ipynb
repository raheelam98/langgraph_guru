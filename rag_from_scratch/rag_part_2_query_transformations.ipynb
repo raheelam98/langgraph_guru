{
  "nbformat": 4,
  "nbformat_minor": 0,
  "metadata": {
    "colab": {
      "provenance": [],
      "authorship_tag": "ABX9TyMkxI2ZvvLh2leK0v/q0Akb",
      "include_colab_link": true
    },
    "kernelspec": {
      "name": "python3",
      "display_name": "Python 3"
    },
    "language_info": {
      "name": "python"
    }
  },
  "cells": [
    {
      "cell_type": "markdown",
      "metadata": {
        "id": "view-in-github",
        "colab_type": "text"
      },
      "source": [
        "<a href=\"https://colab.research.google.com/github/raheelam98/langgraph_guru/blob/main/rag_from_scratch/rag_part_2_query_transformations.ipynb\" target=\"_parent\"><img src=\"https://colab.research.google.com/assets/colab-badge.svg\" alt=\"Open In Colab\"/></a>"
      ]
    },
    {
      "cell_type": "markdown",
      "source": [
        "## Rag From Scratch: Query Transformations\n",
        "\n",
        "Query transformations are a set of approaches focused on re-writing and / or modifying questions for retrieval."
      ],
      "metadata": {
        "id": "tLKTZY3CcbKl"
      }
    },
    {
      "cell_type": "markdown",
      "source": [
        "## Part 5: Multi Query"
      ],
      "metadata": {
        "id": "CgF1EZwdcvWh"
      }
    },
    {
      "cell_type": "code",
      "execution_count": null,
      "metadata": {
        "id": "VAmc-LF7cEMT"
      },
      "outputs": [],
      "source": []
    }
  ]
}