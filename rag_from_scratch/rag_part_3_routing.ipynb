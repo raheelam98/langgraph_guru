{
  "nbformat": 4,
  "nbformat_minor": 0,
  "metadata": {
    "colab": {
      "provenance": [],
      "authorship_tag": "ABX9TyPeKvZmNgUGwW4FJviwbDBp",
      "include_colab_link": true
    },
    "kernelspec": {
      "name": "python3",
      "display_name": "Python 3"
    },
    "language_info": {
      "name": "python"
    }
  },
  "cells": [
    {
      "cell_type": "markdown",
      "metadata": {
        "id": "view-in-github",
        "colab_type": "text"
      },
      "source": [
        "<a href=\"https://colab.research.google.com/github/raheelam98/langgraph_guru/blob/main/rag_from_scratch/rag_part_3_routing.ipynb\" target=\"_parent\"><img src=\"https://colab.research.google.com/assets/colab-badge.svg\" alt=\"Open In Colab\"/></a>"
      ]
    },
    {
      "cell_type": "markdown",
      "source": [
        "## Rag From Scratch: Routing\n",
        "\n"
      ],
      "metadata": {
        "id": "3Ajf0ukgeQ_3"
      }
    },
    {
      "cell_type": "markdown",
      "source": [
        "### Part 10: Logical and Semantic routing\n",
        "\n",
        "Use function-calling for classification."
      ],
      "metadata": {
        "id": "nQmksaljegGf"
      }
    },
    {
      "cell_type": "code",
      "execution_count": null,
      "metadata": {
        "id": "VX5ddtiodsKw"
      },
      "outputs": [],
      "source": []
    }
  ]
}