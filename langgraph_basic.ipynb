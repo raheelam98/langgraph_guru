{
  "nbformat": 4,
  "nbformat_minor": 0,
  "metadata": {
    "colab": {
      "provenance": [],
      "authorship_tag": "ABX9TyN4RiLJRsDVyDjhX5tN1GV8",
      "include_colab_link": true
    },
    "kernelspec": {
      "name": "python3",
      "display_name": "Python 3"
    },
    "language_info": {
      "name": "python"
    }
  },
  "cells": [
    {
      "cell_type": "markdown",
      "metadata": {
        "id": "view-in-github",
        "colab_type": "text"
      },
      "source": [
        "<a href=\"https://colab.research.google.com/github/raheelam98/langgraph_guru/blob/main/langgraph_basic.ipynb\" target=\"_parent\"><img src=\"https://colab.research.google.com/assets/colab-badge.svg\" alt=\"Open In Colab\"/></a>"
      ]
    },
    {
      "cell_type": "markdown",
      "source": [
        "**Langgraph Secret**"
      ],
      "metadata": {
        "id": "RQMXQYDdDz_d"
      }
    },
    {
      "cell_type": "markdown",
      "source": [
        "[LangGraph Glossary](https://langchain-ai.github.io/langgraph/concepts/low_level/)\n",
        "\n",
        "**`StateGraph class`** is the main graph class\n",
        "\n",
        "**`MessageGraph class`**  is a special graph type where the state is only a list of messages, mainly used for chatbots as it simplifies state management.\n",
        "\n",
        "MessageGraph as a subclass of StateGraph\n",
        "\n",
        "\n",
        "Annotate the 'messages' key to use the 'add_messages' reducer function for appending messages"
      ],
      "metadata": {
        "id": "J8VZ_5DtEbq0"
      }
    },
    {
      "cell_type": "code",
      "execution_count": null,
      "metadata": {
        "id": "VtdMMASRDYZ6"
      },
      "outputs": [],
      "source": [
        "class MessageGraph(StateGraph):\n",
        "  \"\"\"A StateGraph where every node\n",
        "  - receives a list of message\n",
        "  - returns one or more messages ouput\n",
        "   \"\"\"\n",
        "\n",
        "   def __init__(self) -> None:\n",
        "      super().__init__Annotated[list[AnyMessage], add_messages]\n"
      ]
    }
  ]
}